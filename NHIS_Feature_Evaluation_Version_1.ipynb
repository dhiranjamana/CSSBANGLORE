{
 "cells": [
  {
   "cell_type": "code",
   "execution_count": 1,
   "metadata": {
    "collapsed": true
   },
   "outputs": [],
   "source": [
    "import pandas as pd\n",
    "import numpy as np\n",
    "%matplotlib inline"
   ]
  },
  {
   "cell_type": "code",
   "execution_count": 2,
   "metadata": {
    "collapsed": false
   },
   "outputs": [
    {
     "name": "stderr",
     "output_type": "stream",
     "text": [
      "C:\\Program Files\\Anaconda3\\envs\\python2\\lib\\site-packages\\IPython\\core\\interactiveshell.py:2717: DtypeWarning: Columns (203) have mixed types. Specify dtype option on import or set low_memory=False.\n",
      "  interactivity=interactivity, compiler=compiler, result=result)\n",
      "C:\\Program Files\\Anaconda3\\envs\\python2\\lib\\site-packages\\IPython\\core\\interactiveshell.py:2717: DtypeWarning: Columns (559,563,566,569,572) have mixed types. Specify dtype option on import or set low_memory=False.\n",
      "  interactivity=interactivity, compiler=compiler, result=result)\n"
     ]
    }
   ],
   "source": [
    "adult_file_2016 = pd.read_csv(\"..//data//adult_file_2016.csv\")\n",
    "adult_file_2015 = pd.read_csv(\"..//data//adult_file_2015.csv\")\n",
    "adult_file_2014 = pd.read_csv(\"..//data//adult_file_2014.csv\")\n",
    "adult_file_2013 = pd.read_csv(\"..//data//adult_file_2013.csv\")\n",
    "adult_file_2012 = pd.read_csv(\"..//data//adult_file_2012.csv\")\n",
    "adult_file_2011 = pd.read_csv(\"..//data//adult_file_2011.csv\")\n",
    "adult_file_2010 = pd.read_csv(\"..//data//adult_file_2010.csv\")\n",
    "col_list = pd.read_csv(\"..//output//col_list.csv\")"
   ]
  },
  {
   "cell_type": "code",
   "execution_count": 3,
   "metadata": {
    "collapsed": true
   },
   "outputs": [],
   "source": [
    "adult_file_2015['FLUVACYR']=np.where((adult_file_2015['SHTFLU2']==1) | (adult_file_2015['SPRFLU2']==1) ,1,0)\n",
    "adult_file_2014['FLUVACYR']=np.where((adult_file_2014['SHTFLU2']==1) | (adult_file_2014['SPRFLU2']==1) ,1,0)\n",
    "adult_file_2013['FLUVACYR']=np.where((adult_file_2013['SHTFLU2']==1) | (adult_file_2013['SPRFLU2']==1) ,1,0)\n",
    "adult_file_2012['FLUVACYR']=np.where((adult_file_2012['SHTFLU2']==1) | (adult_file_2012['SPRFLU2']==1) ,1,0)\n",
    "adult_file_2011['FLUVACYR']=np.where((adult_file_2011['SHTFLU2']==1) | (adult_file_2011['SPRFLU2']==1) ,1,0)\n",
    "adult_file_2010['FLUVACYR']=np.where((adult_file_2010['SHTFLU2']==1) | (adult_file_2010['SPRFLU2']==1) ,1,0)"
   ]
  },
  {
   "cell_type": "code",
   "execution_count": 4,
   "metadata": {
    "collapsed": true
   },
   "outputs": [],
   "source": [
    "adult_file_2016['FLUVACYR']=np.where(adult_file_2016['FLUVACYR']==1,1,0)\n",
    "adult_file_2016['DIBEV']=adult_file_2016['DIBEV1']"
   ]
  },
  {
   "cell_type": "code",
   "execution_count": 5,
   "metadata": {
    "collapsed": true
   },
   "outputs": [],
   "source": [
    "col_list_val=col_list['col_name'].tolist()\n",
    "final_col_list=[item for item in list(adult_file_2010.columns) if item in col_list_val]\n",
    "final_col_list.append('SRVY_YR')"
   ]
  },
  {
   "cell_type": "code",
   "execution_count": 6,
   "metadata": {
    "collapsed": true
   },
   "outputs": [],
   "source": [
    "master_data = pd.concat([adult_file_2016,adult_file_2015,adult_file_2014,adult_file_2013,\n",
    "                         adult_file_2012,adult_file_2011,adult_file_2010])\n",
    "\n",
    "master_data['BMI']= master_data['BMI']/100\n",
    "master_data=master_data[master_data['DIBEV']==1]\n",
    "master_data.index = range(0,len(master_data))"
   ]
  },
  {
   "cell_type": "code",
   "execution_count": 7,
   "metadata": {
    "collapsed": true
   },
   "outputs": [],
   "source": [
    "def convert_x(x):\n",
    "    try:\n",
    "        return float(x)\n",
    "    except:\n",
    "        return 9999"
   ]
  },
  {
   "cell_type": "code",
   "execution_count": 8,
   "metadata": {
    "collapsed": true
   },
   "outputs": [],
   "source": [
    "master_data=master_data.fillna(9999)\n",
    "for col in list(master_data.columns):\n",
    "    master_data[col]= master_data[col].apply(convert_x)"
   ]
  },
  {
   "cell_type": "code",
   "execution_count": 9,
   "metadata": {
    "collapsed": false
   },
   "outputs": [
    {
     "data": {
      "text/plain": [
       "24121"
      ]
     },
     "execution_count": 9,
     "metadata": {},
     "output_type": "execute_result"
    }
   ],
   "source": [
    "len(master_data.index)"
   ]
  },
  {
   "cell_type": "code",
   "execution_count": 10,
   "metadata": {
    "collapsed": false
   },
   "outputs": [],
   "source": [
    "master_data_2016=master_data[master_data['SRVY_YR']==2016]"
   ]
  },
  {
   "cell_type": "code",
   "execution_count": 11,
   "metadata": {
    "collapsed": false
   },
   "outputs": [
    {
     "data": {
      "text/plain": [
       "3519"
      ]
     },
     "execution_count": 11,
     "metadata": {},
     "output_type": "execute_result"
    }
   ],
   "source": [
    "len(master_data_2016.index)"
   ]
  },
  {
   "cell_type": "code",
   "execution_count": 28,
   "metadata": {
    "collapsed": false
   },
   "outputs": [
    {
     "data": {
      "text/plain": [
       "806"
      ]
     },
     "execution_count": 28,
     "metadata": {},
     "output_type": "execute_result"
    }
   ],
   "source": [
    "len(adult_file_2016.columns)"
   ]
  },
  {
   "cell_type": "code",
   "execution_count": 30,
   "metadata": {
    "collapsed": false
   },
   "outputs": [],
   "source": [
    "adult_file_2016=adult_file_2016[adult_file_2016['DIBEV']==1]"
   ]
  },
  {
   "cell_type": "code",
   "execution_count": 18,
   "metadata": {
    "collapsed": true
   },
   "outputs": [],
   "source": [
    "adult_file_2016=adult_file_2016.fillna(9999)\n",
    "for col in list(adult_file_2016.columns):\n",
    "    adult_file_2016[col]= adult_file_2016[col].apply(convert_x)"
   ]
  },
  {
   "cell_type": "code",
   "execution_count": 31,
   "metadata": {
    "collapsed": false
   },
   "outputs": [
    {
     "name": "stdout",
     "output_type": "stream",
     "text": [
      "Overall Accuracy = 0.651988636364\n",
      "Classification Matrix\n",
      "             precision    recall  f1-score   support\n",
      "\n",
      "        0.0       0.52      0.54      0.53       254\n",
      "        1.0       0.73      0.72      0.72       450\n",
      "\n",
      "avg / total       0.66      0.65      0.65       704\n",
      "\n"
     ]
    }
   ],
   "source": [
    "from sklearn import cross_validation\n",
    "from sklearn import metrics\n",
    "from sklearn.ensemble import RandomForestClassifier\n",
    "\n",
    "data_x = adult_file_2016.drop(['FLUVACYR','FLUVACTP','FLUVAC_Y','FLUVAC_M'],axis=1)\n",
    "data_y = adult_file_2016['FLUVACYR']\n",
    "\n",
    "X_train, X_test, y_train, y_test = cross_validation.train_test_split(data_x, data_y, test_size=0.2, random_state=42)\n",
    "\n",
    "clf = RandomForestClassifier(n_estimators=10)\n",
    "clf.fit(X_train, y_train)\n",
    "\n",
    "y_pred = clf.predict(X_test)\n",
    "\n",
    "print(\"Overall Accuracy = %s\" %metrics.accuracy_score(y_pred,y_test))\n",
    "print(\"Classification Matrix\")\n",
    "print(metrics.classification_report(y_pred,y_test))"
   ]
  },
  {
   "cell_type": "code",
   "execution_count": 32,
   "metadata": {
    "collapsed": false,
    "scrolled": true
   },
   "outputs": [],
   "source": [
    "feature_imp = pd.DataFrame(list(data_x.columns))\n",
    "feature_imp.columns=['col_name']\n",
    "feature_imp['imp_val']=clf.feature_importances_\n",
    "feature_imp=feature_imp.sort_values(by=['imp_val'],ascending=False)"
   ]
  },
  {
   "cell_type": "code",
   "execution_count": 33,
   "metadata": {
    "collapsed": false,
    "scrolled": true
   },
   "outputs": [
    {
     "data": {
      "text/plain": [
       "['SHTPNUYR',\n",
       " 'SHINGLES',\n",
       " 'AGE_P',\n",
       " 'HHX',\n",
       " 'BMI',\n",
       " 'DIFAGE2',\n",
       " 'WTIA_SA',\n",
       " 'YRSWRKPA',\n",
       " 'DIBAGE1',\n",
       " 'ASPMEDEV',\n",
       " 'OCCUPN2',\n",
       " 'WTFA_SA',\n",
       " 'PSTRAT',\n",
       " 'AWEIGHTP',\n",
       " 'SHTHPV2',\n",
       " 'OCCUPN1',\n",
       " 'INDSTRN2',\n",
       " 'ADNLONG2',\n",
       " 'APLKIND',\n",
       " 'ASISATHC',\n",
       " 'AHEIGHT',\n",
       " 'INDSTRN1',\n",
       " 'INTV_MON',\n",
       " 'ASITENUR',\n",
       " 'ALC12MYR',\n",
       " 'WRKCATA',\n",
       " 'PPSU',\n",
       " 'MODFREQW',\n",
       " 'REGION',\n",
       " 'SHTTD05',\n",
       " 'BAGE1_P',\n",
       " 'AWEBOFTP',\n",
       " 'ALC5UPN1',\n",
       " 'ALC12MNO',\n",
       " 'AHCNOYR2',\n",
       " 'AVISEXAM',\n",
       " 'APSCHCHK',\n",
       " 'SHTTD',\n",
       " 'MODNO',\n",
       " 'PAINLMT',\n",
       " 'ALCSTAT',\n",
       " 'ASINBILL',\n",
       " 'VIGMIN',\n",
       " 'R_MARITL',\n",
       " 'ASISLPFL',\n",
       " 'BEDDAYR',\n",
       " 'BALAGE_P',\n",
       " 'ASIEFFRT',\n",
       " 'ASISTLV',\n",
       " 'AHEARST1']"
      ]
     },
     "execution_count": 33,
     "metadata": {},
     "output_type": "execute_result"
    }
   ],
   "source": [
    "feature_imp['col_name'][0:50].tolist()"
   ]
  },
  {
   "cell_type": "code",
   "execution_count": 21,
   "metadata": {
    "collapsed": false
   },
   "outputs": [
    {
     "data": {
      "text/plain": [
       "<matplotlib.axes._subplots.AxesSubplot at 0xef79438>"
      ]
     },
     "execution_count": 21,
     "metadata": {},
     "output_type": "execute_result"
    },
    {
     "data": {
      "image/png": "[encoded data removed]",
      "text/plain": [
       "<matplotlib.figure.Figure at 0xa1b2be48>"
      ]
     },
     "metadata": {},
     "output_type": "display_data"
    }
   ],
   "source": [
    "feature_imp[0:100].plot.bar()"
   ]
  },
  {
   "cell_type": "code",
   "execution_count": null,
   "metadata": {
    "collapsed": true
   },
   "outputs": [],
   "source": [
    "from sklearn import cross_validation\n",
    "from sklearn import metrics\n",
    "\n",
    "\n",
    "data_x = master_data_2016[feature_imp['col_name'][0:50].tolist()]\n",
    "data_y = master_data_2016['FLUVACYR']\n",
    "\n",
    "X_train, X_test, y_train, y_test = cross_validation.train_test_split(data_x, data_y, test_size=0.2, random_state=42)\n",
    "\n",
    "from sklearn import svm\n",
    "clf = svm.SVC(kernel=\"linear\")\n",
    "clf.fit(X_train, y_train)\n",
    "\n",
    "y_pred = clf.predict(X_test)\n",
    "\n",
    "print(\"Overall Accuracy = %s\" %metrics.accuracy_score(y_pred,y_test))\n",
    "print(\"Classification Matrix\")\n",
    "print(metrics.classification_report(y_pred,y_test))"
   ]
  },
  {
   "cell_type": "code",
   "execution_count": null,
   "metadata": {
    "collapsed": true
   },
   "outputs": [],
   "source": [
    "#from sklearn import tree\n",
    "#clf = tree.DecisionTreeClassifier()\n",
    "#from sklearn.ensemble import RandomForestClassifier\n",
    "#clf = RandomForestClassifier(n_estimators=10)\n",
    "\n",
    "#from sklearn.multiclass import OneVsRestClassifier\n",
    "#from sklearn.svm import SVC\n",
    "#clf = OneVsRestClassifier(SVC(kernel=\"linear\"))\n",
    "#from sklearn.ensemble import RandomForestClassifier\n",
    "#clf = OneVsRestClassifier(RandomForestClassifier(n_estimators=10))\n",
    "#from sklearn.naive_bayes import MultinomialNB\n",
    "#clf = OneVsRestClassifier(MultinomialNB(alpha=0.01))\n",
    "\n",
    "from sklearn import svm\n",
    "clf = svm.SVC(kernel=\"linear\")"
   ]
  }
 ],
 "metadata": {
  "anaconda-cloud": {},
  "kernelspec": {
   "display_name": "Python [conda env:python2]",
   "language": "python",
   "name": "conda-env-python2-py"
  },
  "language_info": {
   "codemirror_mode": {
    "name": "ipython",
    "version": 2
   },
   "file_extension": ".py",
   "mimetype": "text/x-python",
   "name": "python",
   "nbconvert_exporter": "python",
   "pygments_lexer": "ipython2",
   "version": "2.7.13"
  }
 },
 "nbformat": 4,
 "nbformat_minor": 1
}
