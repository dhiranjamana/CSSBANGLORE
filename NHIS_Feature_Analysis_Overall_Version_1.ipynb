{
 "cells": [
  {
   "cell_type": "code",
   "execution_count": 1,
   "metadata": {
    "collapsed": true
   },
   "outputs": [],
   "source": [
    "import pandas as pd"
   ]
  },
  {
   "cell_type": "code",
   "execution_count": 2,
   "metadata": {
    "collapsed": false
   },
   "outputs": [],
   "source": [
    "family_file = pd.read_csv(\"..//data//2016//family_file.csv\")\n",
    "househld_file = pd.read_csv(\"..//data//2016//househld_file.csv\")\n",
    "person_file = pd.read_csv(\"..//data//2016//person_file.csv\")\n",
    "injury_epsd = pd.read_csv(\"..//data//2016//injury_epsd.csv\")\n",
    "adult_file = pd.read_csv(\"..//data//2016//adult_file.csv\")\n",
    "child_file = pd.read_csv(\"..//data//2016//child_file.csv\")"
   ]
  },
  {
   "cell_type": "code",
   "execution_count": 3,
   "metadata": {
    "collapsed": true
   },
   "outputs": [],
   "source": [
    "import numpy as np"
   ]
  },
  {
   "cell_type": "code",
   "execution_count": 4,
   "metadata": {
    "collapsed": false
   },
   "outputs": [],
   "source": [
    "adult_file['FLUVACYR']=np.where(adult_file['FLUVACYR']==1,1,0)"
   ]
  },
  {
   "cell_type": "code",
   "execution_count": 5,
   "metadata": {
    "collapsed": false
   },
   "outputs": [],
   "source": [
    "adult_file=adult_file.fillna(99999)"
   ]
  },
  {
   "cell_type": "code",
   "execution_count": 6,
   "metadata": {
    "collapsed": false
   },
   "outputs": [
    {
     "name": "stderr",
     "output_type": "stream",
     "text": [
      "C:\\Program Files\\Anaconda3\\lib\\site-packages\\sklearn\\cross_validation.py:44: DeprecationWarning: This module was deprecated in version 0.18 in favor of the model_selection module into which all the refactored classes and functions are moved. Also note that the interface of the new CV iterators are different from that of this module. This module will be removed in 0.20.\n",
      "  \"This module will be removed in 0.20.\", DeprecationWarning)\n"
     ]
    }
   ],
   "source": [
    "from sklearn import cross_validation"
   ]
  },
  {
   "cell_type": "code",
   "execution_count": 7,
   "metadata": {
    "collapsed": true
   },
   "outputs": [],
   "source": [
    "adult_file=adult_file.drop(['FLUVACTP','FLUVAC_M','FLUVAC_Y'],axis=1)"
   ]
  },
  {
   "cell_type": "code",
   "execution_count": 8,
   "metadata": {
    "collapsed": false
   },
   "outputs": [
    {
     "name": "stdout",
     "output_type": "stream",
     "text": [
      "(33028, 801)\n",
      "(33028, 113)\n"
     ]
    }
   ],
   "source": [
    "from sklearn.svm import LinearSVC\n",
    "from sklearn.datasets import load_iris\n",
    "from sklearn.feature_selection import SelectFromModel\n",
    "\n",
    "data_x =  adult_file.drop(['FLUVACYR'],axis=1)\n",
    "data_y = adult_file['FLUVACYR']\n",
    "print(data_x.shape)\n",
    "lsvc = LinearSVC(C=0.01, penalty=\"l1\", dual=False).fit(data_x, data_y)\n",
    "model = SelectFromModel(lsvc, prefit=True)\n",
    "data_x_new = model.transform(data_x)\n",
    "print(data_x_new.shape)"
   ]
  },
  {
   "cell_type": "code",
   "execution_count": 9,
   "metadata": {
    "collapsed": false
   },
   "outputs": [],
   "source": [
    "selected_feature = pd.DataFrame(data_x.columns)\n",
    "\n",
    "selected_feature.columns=['columns']\n",
    "\n",
    "selected_feature['selection']=model.get_support()\n",
    "\n",
    "selected_col_list = selected_feature[selected_feature['selection']==True]['columns'].tolist()"
   ]
  },
  {
   "cell_type": "code",
   "execution_count": 19,
   "metadata": {
    "collapsed": false
   },
   "outputs": [
    {
     "name": "stdout",
     "output_type": "stream",
     "text": [
      "Overall Accuracy = 0.71433617601\n",
      "Classification Matrix\n",
      "             precision    recall  f1-score   support\n",
      "\n",
      "          0       0.79      0.72      0.75     11951\n",
      "          1       0.63      0.70      0.66      7866\n",
      "\n",
      "avg / total       0.72      0.71      0.72     19817\n",
      "\n"
     ]
    }
   ],
   "source": [
    "data_x = adult_file.drop(['FLUVACYR'],axis=1)# adult_file[selected_col_list]\n",
    "data_y = adult_file['FLUVACYR']\n",
    "\n",
    "X_train, X_test, y_train, y_test = cross_validation.train_test_split(data_x, data_y, test_size=0.6, random_state=42)\n",
    "\n",
    "from sklearn import metrics\n",
    "#from sklearn import tree\n",
    "#clf = tree.DecisionTreeClassifier()\n",
    "\n",
    "#from sklearn.multiclass import OneVsRestClassifier\n",
    "#from sklearn.svm import SVC\n",
    "#clf = OneVsRestClassifier(SVC(kernel=\"linear\"))\n",
    "#from sklearn.ensemble import RandomForestClassifier\n",
    "#clf = OneVsRestClassifier(RandomForestClassifier(n_estimators=10))\n",
    "#from sklearn.naive_bayes import MultinomialNB\n",
    "#clf = OneVsRestClassifier(MultinomialNB(alpha=0.01))\n",
    "#from sklearn import svm\n",
    "#clf = svm.SVC(kernel=\"linear\")\n",
    "\n",
    "\n",
    "from sklearn.ensemble import RandomForestClassifier\n",
    "clf = RandomForestClassifier(n_estimators=100)\n",
    "\n",
    "#from sklearn import linear_model\n",
    "#clf = linear_model.LogisticRegression(C=1e5)\n",
    "\n",
    "clf.fit(X_train, y_train) \n",
    "y_pred = clf.predict(X_test)\n",
    "\n",
    "print(\"Overall Accuracy = %s\" %metrics.accuracy_score(y_pred,y_test))\n",
    "print(\"Classification Matrix\")\n",
    "print(metrics.classification_report(y_pred,y_test))"
   ]
  },
  {
   "cell_type": "code",
   "execution_count": 21,
   "metadata": {
    "collapsed": false
   },
   "outputs": [
    {
     "data": {
      "text/plain": [
       "801"
      ]
     },
     "execution_count": 21,
     "metadata": {},
     "output_type": "execute_result"
    }
   ],
   "source": [
    "len(clf.feature_importances_)"
   ]
  },
  {
   "cell_type": "code",
   "execution_count": 22,
   "metadata": {
    "collapsed": true
   },
   "outputs": [],
   "source": [
    "feature_imp = pd.DataFrame(list(data_x.columns))\n",
    "\n",
    "feature_imp.columns=['col_name']\n",
    "\n",
    "feature_imp['imp_val']=clf.feature_importances_\n",
    "\n",
    "feature_imp.sort_values(by=['imp_val'],ascending=False)"
   ]
  },
  {
   "cell_type": "code",
   "execution_count": null,
   "metadata": {
    "collapsed": false
   },
   "outputs": [],
   "source": [
    "svm_weights_selected = (clf.coef_ ** 2).sum(axis=0)\n",
    "svm_weights_selected /= svm_weights_selected.max()\n",
    "\n",
    "imp= pd.DataFrame(list(data_x.columns))\n",
    "\n",
    "imp['imp']=svm_weights_selected\n",
    "\n",
    "imp.sort_values(by=['imp'],ascending=False)"
   ]
  },
  {
   "cell_type": "code",
   "execution_count": null,
   "metadata": {
    "collapsed": false
   },
   "outputs": [],
   "source": [
    "import matplotlib.pyplot as plt\n",
    "%matplotlib inline\n",
    "\n",
    "imp.sort_values(by=['imp'],ascending=False)[0:50].plot.bar(x=0,y='imp')"
   ]
  },
  {
   "cell_type": "code",
   "execution_count": 38,
   "metadata": {
    "collapsed": false
   },
   "outputs": [],
   "source": [
    "new_data = adult_file[imp.sort_values(by=['imp'],ascending=False)[0:50][0].tolist()].copy()"
   ]
  },
  {
   "cell_type": "code",
   "execution_count": 41,
   "metadata": {
    "collapsed": false
   },
   "outputs": [],
   "source": [
    "new_data['FLUVACYR']=adult_file['FLUVACYR'].copy()"
   ]
  },
  {
   "cell_type": "code",
   "execution_count": null,
   "metadata": {
    "collapsed": true
   },
   "outputs": [],
   "source": [
    "data_x =  new_data.drop(['FLUVACYR'],axis=1)\n",
    "data_y = new_data['FLUVACYR']\n",
    "\n",
    "X_train, X_test, y_train, y_test = cross_validation.train_test_split(data_x, data_y, test_size=0.2, random_state=42)\n",
    "\n",
    "from sklearn import svm\n",
    "from sklearn import metrics\n",
    "clf = svm.SVC(kernel=\"linear\")\n",
    "\n",
    "\n",
    "clf.fit(X_train, y_train) \n",
    "y_pred = clf.predict(X_test)\n",
    "\n",
    "print(\"Overall Accuracy = %s\" %metrics.accuracy_score(y_pred,y_test))\n",
    "print(\"Classification Matrix\")\n",
    "print(metrics.classification_report(y_pred,y_test))"
   ]
  },
  {
   "cell_type": "code",
   "execution_count": null,
   "metadata": {
    "collapsed": true
   },
   "outputs": [],
   "source": [
    "svm_weights_selected = (clf.coef_ ** 2).sum(axis=0)\n",
    "svm_weights_selected /= svm_weights_selected.max()\n",
    "\n",
    "imp= pd.DataFrame(list(data_x.columns))\n",
    "\n",
    "imp['imp']=svm_weights_selected\n",
    "\n",
    "imp.sort_values(by=['imp'],ascending=False)"
   ]
  }
 ],
 "metadata": {
  "anaconda-cloud": {},
  "kernelspec": {
   "display_name": "Python [default]",
   "language": "python",
   "name": "python3"
  },
  "language_info": {
   "codemirror_mode": {
    "name": "ipython",
    "version": 3
   },
   "file_extension": ".py",
   "mimetype": "text/x-python",
   "name": "python",
   "nbconvert_exporter": "python",
   "pygments_lexer": "ipython3",
   "version": "3.5.2"
  }
 },
 "nbformat": 4,
 "nbformat_minor": 1
}
