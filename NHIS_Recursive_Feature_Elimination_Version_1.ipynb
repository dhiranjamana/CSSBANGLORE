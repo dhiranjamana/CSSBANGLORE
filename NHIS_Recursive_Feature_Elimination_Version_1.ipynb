{
 "cells": [
  {
   "cell_type": "code",
   "execution_count": 1,
   "metadata": {
    "collapsed": false
   },
   "outputs": [
    {
     "name": "stderr",
     "output_type": "stream",
     "text": [
      "C:\\Program Files\\Anaconda3\\lib\\site-packages\\sklearn\\cross_validation.py:44: DeprecationWarning: This module was deprecated in version 0.18 in favor of the model_selection module into which all the refactored classes and functions are moved. Also note that the interface of the new CV iterators are different from that of this module. This module will be removed in 0.20.\n",
      "  \"This module will be removed in 0.20.\", DeprecationWarning)\n"
     ]
    }
   ],
   "source": [
    "from sklearn.feature_selection import RFE\n",
    "from sklearn.svm import SVC\n",
    "from sklearn import cross_validation\n",
    "import numpy as np"
   ]
  },
  {
   "cell_type": "code",
   "execution_count": 2,
   "metadata": {
    "collapsed": true
   },
   "outputs": [],
   "source": [
    "import pandas as pd"
   ]
  },
  {
   "cell_type": "code",
   "execution_count": 3,
   "metadata": {
    "collapsed": false
   },
   "outputs": [],
   "source": [
    "adult_file = pd.read_csv(\"..//data//2016//adult_file.csv\")\n",
    "\n",
    "adult_file['FLUVACYR']=np.where(adult_file['FLUVACYR']==1,1,0)\n",
    "\n",
    "adult_file=adult_file[adult_file['DIBEV1']==1]\n",
    "\n",
    "adult_file.index = range(0,len(adult_file.index))\n",
    "\n",
    "adult_file=adult_file.fillna(99999)\n",
    "\n",
    "adult_file=adult_file.drop(['FLUVACTP','FLUVAC_M','FLUVAC_Y'],axis=1)\n",
    "\n",
    "data_x =  adult_file.drop(['FLUVACYR'],axis=1)\n",
    "data_y = adult_file['FLUVACYR']"
   ]
  },
  {
   "cell_type": "code",
   "execution_count": 7,
   "metadata": {
    "collapsed": false
   },
   "outputs": [],
   "source": [
    "col_list=pd.DataFrame(list(adult_file.columns))"
   ]
  },
  {
   "cell_type": "code",
   "execution_count": 9,
   "metadata": {
    "collapsed": false
   },
   "outputs": [],
   "source": [
    "col_list.columns=['col_name']"
   ]
  },
  {
   "cell_type": "code",
   "execution_count": 10,
   "metadata": {
    "collapsed": true
   },
   "outputs": [],
   "source": [
    "import re\n",
    "import pandas as pd"
   ]
  },
  {
   "cell_type": "code",
   "execution_count": 11,
   "metadata": {
    "collapsed": true
   },
   "outputs": [],
   "source": [
    "NHIS_Varriable_Summary_file = open(\"..//data//2016//NHIS_Varriable_Summary.txt\", \"r\")\n",
    "NHIS_Varriable_Summary = NHIS_Varriable_Summary_file.read()\n",
    "\n",
    "NHIS_Varriable_Desc_file = open(\"..//data//2016//NHIS_Varriable_Desc.txt\", \"r\")\n",
    "NHIS_Varriable_Desc = NHIS_Varriable_Desc_file.read()"
   ]
  },
  {
   "cell_type": "code",
   "execution_count": 14,
   "metadata": {
    "collapsed": true
   },
   "outputs": [],
   "source": [
    "def extract_column_name(col_alias):\n",
    "    text = NHIS_Varriable_Summary\n",
    "    new_text = text\n",
    "    start_point = text.find(col_alias)+len(col_alias)\n",
    "    #print(start_point)\n",
    "    text = text[start_point:len(text)]\n",
    "    #print(text)\n",
    "    end_point = re.search('[0-9]{1,3}[ - ]*[0-9]{1,3} [0-9]{1}', text).span()[0]\n",
    "    #print(end_point)\n",
    "    col_name = new_text[start_point:start_point+end_point]\n",
    "    if col_name.find(\"-\")>=0:\n",
    "        col_list = col_name.split(\" \")\n",
    "        col_list = col_list[0:len(col_list)-3]\n",
    "        #print(col_list)\n",
    "        col_name = \" \".join(col_list)\n",
    "    col_name=col_name.strip()\n",
    "    if col_name.find(col_alias)==0:\n",
    "        col_name = re.sub(col_alias,\" \",col_name).strip()\n",
    "    return col_name"
   ]
  },
  {
   "cell_type": "code",
   "execution_count": 16,
   "metadata": {
    "collapsed": false,
    "scrolled": true
   },
   "outputs": [],
   "source": [
    "col_list['col_desc']=col_list['col_name'].apply(extract_column_name)"
   ]
  },
  {
   "cell_type": "code",
   "execution_count": 20,
   "metadata": {
    "collapsed": false,
    "scrolled": true
   },
   "outputs": [],
   "source": [
    "col_list.to_csv(\"..//output//col_list_new.csv\",index=False)"
   ]
  },
  {
   "cell_type": "code",
   "execution_count": null,
   "metadata": {
    "collapsed": false
   },
   "outputs": [],
   "source": [
    "estimator = SVC(kernel=\"linear\")\n",
    "selector = RFE(estimator, 5, step=1)\n",
    "selector = selector.fit(data_x, data_y)\n",
    "selector.support_ "
   ]
  }
 ],
 "metadata": {
  "anaconda-cloud": {},
  "kernelspec": {
   "display_name": "Python [default]",
   "language": "python",
   "name": "python3"
  },
  "language_info": {
   "codemirror_mode": {
    "name": "ipython",
    "version": 3
   },
   "file_extension": ".py",
   "mimetype": "text/x-python",
   "name": "python",
   "nbconvert_exporter": "python",
   "pygments_lexer": "ipython3",
   "version": "3.5.2"
  }
 },
 "nbformat": 4,
 "nbformat_minor": 1
}
