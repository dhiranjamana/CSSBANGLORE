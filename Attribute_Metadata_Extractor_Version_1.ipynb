{
 "cells": [
  {
   "cell_type": "code",
   "execution_count": 2,
   "metadata": {
    "collapsed": false
   },
   "outputs": [],
   "source": [
    "import re\n",
    "\n",
    "import pandas as pd"
   ]
  },
  {
   "cell_type": "code",
   "execution_count": 3,
   "metadata": {
    "collapsed": true
   },
   "outputs": [],
   "source": [
    "NHIS_Varriable_Summary_file = open(\"..//data//2016//NHIS_Varriable_Summary.txt\", \"r\")\n",
    "NHIS_Varriable_Summary = NHIS_Varriable_Summary_file.read()\n",
    "\n",
    "NHIS_Varriable_Desc_file = open(\"..//data//2016//NHIS_Varriable_Desc.txt\", \"r\")\n",
    "NHIS_Varriable_Desc = NHIS_Varriable_Desc_file.read()"
   ]
  },
  {
   "cell_type": "code",
   "execution_count": 4,
   "metadata": {
    "collapsed": true
   },
   "outputs": [],
   "source": [
    "def extract_column_name(col_alias,text):\n",
    "    new_text = text\n",
    "    start_point = text.find(col_alias)+len(col_alias)\n",
    "    #print(start_point)\n",
    "    text = text[start_point:len(text)]\n",
    "    #print(text)\n",
    "    end_point = re.search('[0-9]{1,3}[ - ]*[0-9]{1,3} [0-9]{1}', text).span()[0]\n",
    "    #print(end_point)\n",
    "    col_name = new_text[start_point:start_point+end_point]\n",
    "    if col_name.find(\"-\")>=0:\n",
    "        col_list = col_name.split(\" \")\n",
    "        col_list = col_list[0:len(col_list)-3]\n",
    "        #print(col_list)\n",
    "        col_name = \" \".join(col_list)\n",
    "    col_name=col_name.strip()\n",
    "    if col_name.find(col_alias)==0:\n",
    "        col_name = re.sub(col_alias,\" \",col_name).strip()\n",
    "    return col_name"
   ]
  },
  {
   "cell_type": "code",
   "execution_count": 5,
   "metadata": {
    "collapsed": true
   },
   "outputs": [],
   "source": [
    "def extract_value_label(col_alias,text):\n",
    "    new_text = text[text.find(\"Final Documentation Name: \"+col_alias):len(text)]\n",
    "    if new_text.find('Page')!=-1 and new_text.find('Page')< new_text.find('Question ID'):\n",
    "        new_text=new_text[0:new_text.find('Page')]\n",
    "    else:\n",
    "        new_text=new_text[0:new_text.find('Question ID')]\n",
    "    text_list=new_text.split(\"\\n\")\n",
    "    text_list=[text for text in text_list if len(text)>=1]\n",
    "    text_pd=pd.DataFrame(text_list)\n",
    "    text_pd['number_start']=text_pd[0].apply(lambda x : len(re.findall('^[0-9]',x)))\n",
    "    map_span = re.search('[1]{1,}$',\"\".join([str(text) for text in text_pd['number_start'].tolist()])).span()\n",
    "    text_pd=text_pd[map_span[0]:map_span[1]]\n",
    "    value_pd=pd.DataFrame(text_pd[0].apply(lambda x : x.split(\" \")[0]))\n",
    "    value_pd.columns=['label']\n",
    "    value_pd['value']= text_pd[0].apply(lambda x : \" \".join(x.split(\" \")[1:len(x.split(\" \"))]))\n",
    "    value_pd.index=range(0,len(value_pd.index))\n",
    "    return value_pd"
   ]
  },
  {
   "cell_type": "code",
   "execution_count": 29,
   "metadata": {
    "collapsed": false
   },
   "outputs": [
    {
     "name": "stdout",
     "output_type": "stream",
     "text": [
      "Couldn't afford dental care, past 12 m\n"
     ]
    },
    {
     "data": {
      "text/html": [
       "<div>\n",
       "<table border=\"1\" class=\"dataframe\">\n",
       "  <thead>\n",
       "    <tr style=\"text-align: right;\">\n",
       "      <th></th>\n",
       "      <th>label</th>\n",
       "      <th>value</th>\n",
       "    </tr>\n",
       "  </thead>\n",
       "  <tbody>\n",
       "    <tr>\n",
       "      <th>0</th>\n",
       "      <td>1</td>\n",
       "      <td>Yes</td>\n",
       "    </tr>\n",
       "    <tr>\n",
       "      <th>1</th>\n",
       "      <td>2</td>\n",
       "      <td>No</td>\n",
       "    </tr>\n",
       "    <tr>\n",
       "      <th>2</th>\n",
       "      <td>7</td>\n",
       "      <td>Refused</td>\n",
       "    </tr>\n",
       "    <tr>\n",
       "      <th>3</th>\n",
       "      <td>8</td>\n",
       "      <td>Not ascertained</td>\n",
       "    </tr>\n",
       "    <tr>\n",
       "      <th>4</th>\n",
       "      <td>9</td>\n",
       "      <td>Don't know</td>\n",
       "    </tr>\n",
       "  </tbody>\n",
       "</table>\n",
       "</div>"
      ],
      "text/plain": [
       "  label            value\n",
       "0     1              Yes\n",
       "1     2               No\n",
       "2     7          Refused\n",
       "3     8  Not ascertained\n",
       "4     9      Don't know "
      ]
     },
     "execution_count": 29,
     "metadata": {},
     "output_type": "execute_result"
    }
   ],
   "source": [
    "column_alias = \"AHCAFYR3\"\n",
    "\n",
    "print(extract_column_name(column_alias,NHIS_Varriable_Summary))\n",
    "\n",
    "extract_value_label(column_alias,NHIS_Varriable_Desc)"
   ]
  }
 ],
 "metadata": {
  "anaconda-cloud": {},
  "kernelspec": {
   "display_name": "Python [default]",
   "language": "python",
   "name": "python3"
  },
  "language_info": {
   "codemirror_mode": {
    "name": "ipython",
    "version": 3
   },
   "file_extension": ".py",
   "mimetype": "text/x-python",
   "name": "python",
   "nbconvert_exporter": "python",
   "pygments_lexer": "ipython3",
   "version": "3.5.2"
  }
 },
 "nbformat": 4,
 "nbformat_minor": 1
}
